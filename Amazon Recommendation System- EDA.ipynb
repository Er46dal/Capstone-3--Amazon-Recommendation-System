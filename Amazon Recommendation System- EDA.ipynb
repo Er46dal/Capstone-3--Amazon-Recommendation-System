{
 "cells": [
  {
   "cell_type": "code",
   "execution_count": 59,
   "metadata": {},
   "outputs": [],
   "source": [
    "import pandas as pd \n",
    "import os \n",
    "import networkx as nx \n",
    "import csv\n",
    "import matplotlib.pyplot as plt \n",
    "pd.options.display.float_format = '{:,.2f}'.format"
   ]
  },
  {
   "cell_type": "code",
   "execution_count": 3,
   "metadata": {},
   "outputs": [],
   "source": [
    "data=pd.read_csv('Downloads/ratings_Beauty.csv/ratings_Beauty.csv')"
   ]
  },
  {
   "cell_type": "code",
   "execution_count": 4,
   "metadata": {
    "scrolled": true
   },
   "outputs": [
    {
     "data": {
      "text/html": [
       "<div>\n",
       "<style scoped>\n",
       "    .dataframe tbody tr th:only-of-type {\n",
       "        vertical-align: middle;\n",
       "    }\n",
       "\n",
       "    .dataframe tbody tr th {\n",
       "        vertical-align: top;\n",
       "    }\n",
       "\n",
       "    .dataframe thead th {\n",
       "        text-align: right;\n",
       "    }\n",
       "</style>\n",
       "<table border=\"1\" class=\"dataframe\">\n",
       "  <thead>\n",
       "    <tr style=\"text-align: right;\">\n",
       "      <th></th>\n",
       "      <th>UserId</th>\n",
       "      <th>ProductId</th>\n",
       "      <th>Rating</th>\n",
       "      <th>Timestamp</th>\n",
       "    </tr>\n",
       "  </thead>\n",
       "  <tbody>\n",
       "    <tr>\n",
       "      <td>635350</td>\n",
       "      <td>A2WQVNZB86K8V9</td>\n",
       "      <td>B001CENUPU</td>\n",
       "      <td>4.0</td>\n",
       "      <td>1393545600</td>\n",
       "    </tr>\n",
       "    <tr>\n",
       "      <td>1349790</td>\n",
       "      <td>A2NSCO12WIT6QZ</td>\n",
       "      <td>B0052D4416</td>\n",
       "      <td>5.0</td>\n",
       "      <td>1395532800</td>\n",
       "    </tr>\n",
       "    <tr>\n",
       "      <td>1442649</td>\n",
       "      <td>A3KQQNTKBFOOZC</td>\n",
       "      <td>B005SBCNHE</td>\n",
       "      <td>5.0</td>\n",
       "      <td>1377475200</td>\n",
       "    </tr>\n",
       "    <tr>\n",
       "      <td>2008528</td>\n",
       "      <td>A37FADLGGTO8Z0</td>\n",
       "      <td>B00IPJW62I</td>\n",
       "      <td>5.0</td>\n",
       "      <td>1383264000</td>\n",
       "    </tr>\n",
       "    <tr>\n",
       "      <td>1126163</td>\n",
       "      <td>A1DM8AJ8OPCXN2</td>\n",
       "      <td>B003XWG880</td>\n",
       "      <td>5.0</td>\n",
       "      <td>1396742400</td>\n",
       "    </tr>\n",
       "  </tbody>\n",
       "</table>\n",
       "</div>"
      ],
      "text/plain": [
       "                 UserId   ProductId  Rating   Timestamp\n",
       "635350   A2WQVNZB86K8V9  B001CENUPU     4.0  1393545600\n",
       "1349790  A2NSCO12WIT6QZ  B0052D4416     5.0  1395532800\n",
       "1442649  A3KQQNTKBFOOZC  B005SBCNHE     5.0  1377475200\n",
       "2008528  A37FADLGGTO8Z0  B00IPJW62I     5.0  1383264000\n",
       "1126163  A1DM8AJ8OPCXN2  B003XWG880     5.0  1396742400"
      ]
     },
     "execution_count": 4,
     "metadata": {},
     "output_type": "execute_result"
    }
   ],
   "source": [
    "data.sample(5)"
   ]
  },
  {
   "cell_type": "code",
   "execution_count": 5,
   "metadata": {},
   "outputs": [
    {
     "data": {
      "text/plain": [
       "(2023070, 4)"
      ]
     },
     "execution_count": 5,
     "metadata": {},
     "output_type": "execute_result"
    }
   ],
   "source": [
    "data.shape"
   ]
  },
  {
   "cell_type": "code",
   "execution_count": 41,
   "metadata": {},
   "outputs": [
    {
     "name": "stdout",
     "output_type": "stream",
     "text": [
      "<class 'pandas.core.frame.DataFrame'>\n",
      "RangeIndex: 2023070 entries, 0 to 2023069\n",
      "Data columns (total 4 columns):\n",
      "UserId       object\n",
      "ProductId    object\n",
      "Rating       float64\n",
      "Timestamp    int64\n",
      "dtypes: float64(1), int64(1), object(2)\n",
      "memory usage: 61.7+ MB\n"
     ]
    }
   ],
   "source": [
    "data.info()"
   ]
  },
  {
   "cell_type": "markdown",
   "metadata": {},
   "source": [
    "# Distribution of Rating "
   ]
  },
  {
   "cell_type": "code",
   "execution_count": 25,
   "metadata": {},
   "outputs": [
    {
     "data": {
      "text/plain": [
       "Text(0.5, 0, 'Rating')"
      ]
     },
     "execution_count": 25,
     "metadata": {},
     "output_type": "execute_result"
    },
    {
     "data": {
      "image/png": "[encoded data removed]",
      "text/plain": [
       "<Figure size 432x288 with 1 Axes>"
      ]
     },
     "metadata": {
      "needs_background": "light"
     },
     "output_type": "display_data"
    }
   ],
   "source": [
    "data.Rating.hist()\n",
    "plt.title('Distribution of Rating')\n",
    "plt.ylabel('Count')\n",
    "plt.xlabel('Rating')"
   ]
  },
  {
   "cell_type": "code",
   "execution_count": 24,
   "metadata": {},
   "outputs": [
    {
     "data": {
      "text/plain": [
       "count   2,023,070.00\n",
       "mean            4.15\n",
       "std             1.31\n",
       "min             1.00\n",
       "25%             4.00\n",
       "50%             5.00\n",
       "75%             5.00\n",
       "max             5.00\n",
       "Name: Rating, dtype: float64"
      ]
     },
     "execution_count": 24,
     "metadata": {},
     "output_type": "execute_result"
    }
   ],
   "source": [
    "\n",
    "data.Rating.describe()\n"
   ]
  },
  {
   "cell_type": "markdown",
   "metadata": {},
   "source": [
    "Most of the rating values are above 4. There are almost 200,000 items that received rating of 1. And, almost 300,000 items rated as 4. "
   ]
  },
  {
   "cell_type": "markdown",
   "metadata": {},
   "source": [
    "# Number of times that the product is rated and average rating per product "
   ]
  },
  {
   "cell_type": "code",
   "execution_count": 28,
   "metadata": {},
   "outputs": [],
   "source": [
    "rating=pd.DataFrame(data.groupby('ProductId')['Rating'].agg(['mean','count']).sort_values(by='count',ascending=False).head(10))"
   ]
  },
  {
   "cell_type": "code",
   "execution_count": 29,
   "metadata": {
    "scrolled": true
   },
   "outputs": [
    {
     "data": {
      "text/html": [
       "<div>\n",
       "<style scoped>\n",
       "    .dataframe tbody tr th:only-of-type {\n",
       "        vertical-align: middle;\n",
       "    }\n",
       "\n",
       "    .dataframe tbody tr th {\n",
       "        vertical-align: top;\n",
       "    }\n",
       "\n",
       "    .dataframe thead th {\n",
       "        text-align: right;\n",
       "    }\n",
       "</style>\n",
       "<table border=\"1\" class=\"dataframe\">\n",
       "  <thead>\n",
       "    <tr style=\"text-align: right;\">\n",
       "      <th></th>\n",
       "      <th>mean</th>\n",
       "      <th>count</th>\n",
       "    </tr>\n",
       "    <tr>\n",
       "      <th>ProductId</th>\n",
       "      <th></th>\n",
       "      <th></th>\n",
       "    </tr>\n",
       "  </thead>\n",
       "  <tbody>\n",
       "    <tr>\n",
       "      <td>B001MA0QY2</td>\n",
       "      <td>4.321386</td>\n",
       "      <td>7533</td>\n",
       "    </tr>\n",
       "    <tr>\n",
       "      <td>B0009V1YR8</td>\n",
       "      <td>3.568839</td>\n",
       "      <td>2869</td>\n",
       "    </tr>\n",
       "    <tr>\n",
       "      <td>B0043OYFKU</td>\n",
       "      <td>4.310456</td>\n",
       "      <td>2477</td>\n",
       "    </tr>\n",
       "    <tr>\n",
       "      <td>B0000YUXI0</td>\n",
       "      <td>4.405040</td>\n",
       "      <td>2143</td>\n",
       "    </tr>\n",
       "    <tr>\n",
       "      <td>B003V265QW</td>\n",
       "      <td>4.365421</td>\n",
       "      <td>2088</td>\n",
       "    </tr>\n",
       "    <tr>\n",
       "      <td>B000ZMBSPE</td>\n",
       "      <td>4.422342</td>\n",
       "      <td>2041</td>\n",
       "    </tr>\n",
       "    <tr>\n",
       "      <td>B003BQ6QXK</td>\n",
       "      <td>4.625652</td>\n",
       "      <td>1918</td>\n",
       "    </tr>\n",
       "    <tr>\n",
       "      <td>B004OHQR1Q</td>\n",
       "      <td>4.465782</td>\n",
       "      <td>1885</td>\n",
       "    </tr>\n",
       "    <tr>\n",
       "      <td>B00121UVU0</td>\n",
       "      <td>4.538085</td>\n",
       "      <td>1838</td>\n",
       "    </tr>\n",
       "    <tr>\n",
       "      <td>B000FS05VG</td>\n",
       "      <td>4.159849</td>\n",
       "      <td>1589</td>\n",
       "    </tr>\n",
       "  </tbody>\n",
       "</table>\n",
       "</div>"
      ],
      "text/plain": [
       "                mean  count\n",
       "ProductId                  \n",
       "B001MA0QY2  4.321386   7533\n",
       "B0009V1YR8  3.568839   2869\n",
       "B0043OYFKU  4.310456   2477\n",
       "B0000YUXI0  4.405040   2143\n",
       "B003V265QW  4.365421   2088\n",
       "B000ZMBSPE  4.422342   2041\n",
       "B003BQ6QXK  4.625652   1918\n",
       "B004OHQR1Q  4.465782   1885\n",
       "B00121UVU0  4.538085   1838\n",
       "B000FS05VG  4.159849   1589"
      ]
     },
     "execution_count": 29,
     "metadata": {},
     "output_type": "execute_result"
    }
   ],
   "source": [
    "rating.head(10)"
   ]
  },
  {
   "cell_type": "code",
   "execution_count": 92,
   "metadata": {},
   "outputs": [
    {
     "data": {
      "text/plain": [
       "Text(0, 0.5, 'Count')"
      ]
     },
     "execution_count": 92,
     "metadata": {},
     "output_type": "execute_result"
    },
    {
     "data": {
      "image/png": "[encoded data removed]",
      "text/plain": [
       "<Figure size 432x288 with 1 Axes>"
      ]
     },
     "metadata": {
      "needs_background": "light"
     },
     "output_type": "display_data"
    }
   ],
   "source": [
    "rating['count'].plot(kind='bar')\n",
    "plt.title('Number of Times that Each Item is Rated (Top 10)')\n",
    "plt.xlabel('Product')\n",
    "plt.ylabel('Count')"
   ]
  },
  {
   "cell_type": "markdown",
   "metadata": {},
   "source": [
    "The most rated product is \"B001MA0QY2\" with 7553 ratings followed by  'B001MA0QY2' with 2869 ratings."
   ]
  },
  {
   "cell_type": "markdown",
   "metadata": {},
   "source": [
    "# Average ratings and Counts "
   ]
  },
  {
   "cell_type": "code",
   "execution_count": 46,
   "metadata": {},
   "outputs": [
    {
     "data": {
      "image/png": "[encoded data removed]",
      "text/plain": [
       "<Figure size 576x360 with 2 Axes>"
      ]
     },
     "metadata": {
      "needs_background": "light"
     },
     "output_type": "display_data"
    }
   ],
   "source": [
    "fig, [ax1,ax2]=plt.subplots(nrows=1, ncols=2, figsize=(8,5))\n",
    "ax1.hist(rating['mean'])\n",
    "ax2.hist(rating['count'])\n",
    "ax1.set_title('Average Rating per Product')\n",
    "ax2.set_title('Number of Ratings')\n",
    "ax1.set_xlabel('Rating')\n",
    "ax2.set_xlabel('Count')\n",
    "ax1.set_ylabel('Mean')\n",
    "ax2.set_ylabel('Product')\n",
    "plt.show()\n",
    "\n"
   ]
  },
  {
   "cell_type": "markdown",
   "metadata": {},
   "source": [
    "The average rating values are mostly above 4.3. The minimum average rating is 3.6. In the second bar graph, we see that there is one product that is rated more than 7000 times with the average rating 4.32. "
   ]
  },
  {
   "cell_type": "markdown",
   "metadata": {},
   "source": [
    "# Average Rating and the Number of Ratings by Each User"
   ]
  },
  {
   "cell_type": "code",
   "execution_count": 69,
   "metadata": {},
   "outputs": [],
   "source": [
    "users=data.groupby('UserId')['Rating'].agg(['mean','count'])"
   ]
  },
  {
   "cell_type": "code",
   "execution_count": 87,
   "metadata": {
    "scrolled": true
   },
   "outputs": [
    {
     "data": {
      "text/html": [
       "<div>\n",
       "<style scoped>\n",
       "    .dataframe tbody tr th:only-of-type {\n",
       "        vertical-align: middle;\n",
       "    }\n",
       "\n",
       "    .dataframe tbody tr th {\n",
       "        vertical-align: top;\n",
       "    }\n",
       "\n",
       "    .dataframe thead th {\n",
       "        text-align: right;\n",
       "    }\n",
       "</style>\n",
       "<table border=\"1\" class=\"dataframe\">\n",
       "  <thead>\n",
       "    <tr style=\"text-align: right;\">\n",
       "      <th></th>\n",
       "      <th>mean</th>\n",
       "      <th>count</th>\n",
       "    </tr>\n",
       "    <tr>\n",
       "      <th>UserId</th>\n",
       "      <th></th>\n",
       "      <th></th>\n",
       "    </tr>\n",
       "  </thead>\n",
       "  <tbody>\n",
       "    <tr>\n",
       "      <td>A3KEZLJ59C1JVH</td>\n",
       "      <td>3.70</td>\n",
       "      <td>389</td>\n",
       "    </tr>\n",
       "    <tr>\n",
       "      <td>A281NPSIMI1C2R</td>\n",
       "      <td>4.79</td>\n",
       "      <td>336</td>\n",
       "    </tr>\n",
       "    <tr>\n",
       "      <td>A3M174IC0VXOS2</td>\n",
       "      <td>4.41</td>\n",
       "      <td>326</td>\n",
       "    </tr>\n",
       "    <tr>\n",
       "      <td>A2V5R832QCSOMX</td>\n",
       "      <td>4.42</td>\n",
       "      <td>278</td>\n",
       "    </tr>\n",
       "    <tr>\n",
       "      <td>A3LJLRIZL38GG3</td>\n",
       "      <td>4.55</td>\n",
       "      <td>276</td>\n",
       "    </tr>\n",
       "    <tr>\n",
       "      <td>ALQGOMOY1F5X9</td>\n",
       "      <td>2.22</td>\n",
       "      <td>275</td>\n",
       "    </tr>\n",
       "    <tr>\n",
       "      <td>AKMEY1BSHSDG7</td>\n",
       "      <td>4.62</td>\n",
       "      <td>269</td>\n",
       "    </tr>\n",
       "    <tr>\n",
       "      <td>A3R9H6OKZHHRJD</td>\n",
       "      <td>3.97</td>\n",
       "      <td>259</td>\n",
       "    </tr>\n",
       "    <tr>\n",
       "      <td>A1M04H40ZVGWVG</td>\n",
       "      <td>3.84</td>\n",
       "      <td>249</td>\n",
       "    </tr>\n",
       "    <tr>\n",
       "      <td>A1RRMZKOMZ2M7J</td>\n",
       "      <td>3.36</td>\n",
       "      <td>225</td>\n",
       "    </tr>\n",
       "  </tbody>\n",
       "</table>\n",
       "</div>"
      ],
      "text/plain": [
       "                mean  count\n",
       "UserId                     \n",
       "A3KEZLJ59C1JVH  3.70    389\n",
       "A281NPSIMI1C2R  4.79    336\n",
       "A3M174IC0VXOS2  4.41    326\n",
       "A2V5R832QCSOMX  4.42    278\n",
       "A3LJLRIZL38GG3  4.55    276\n",
       "ALQGOMOY1F5X9   2.22    275\n",
       "AKMEY1BSHSDG7   4.62    269\n",
       "A3R9H6OKZHHRJD  3.97    259\n",
       "A1M04H40ZVGWVG  3.84    249\n",
       "A1RRMZKOMZ2M7J  3.36    225"
      ]
     },
     "execution_count": 87,
     "metadata": {},
     "output_type": "execute_result"
    }
   ],
   "source": [
    "# Users with maximum number of ratings\n",
    "top10_users=users.sort_values(by='count', ascending=False).head(10)\n",
    "top10_users"
   ]
  },
  {
   "cell_type": "code",
   "execution_count": 88,
   "metadata": {},
   "outputs": [
    {
     "data": {
      "text/plain": [
       "Text(0.5, 1.0, 'Maximum Number of Ratings by Users')"
      ]
     },
     "execution_count": 88,
     "metadata": {},
     "output_type": "execute_result"
    },
    {
     "data": {
      "image/png": "[encoded data removed]",
      "text/plain": [
       "<Figure size 432x288 with 1 Axes>"
      ]
     },
     "metadata": {
      "needs_background": "light"
     },
     "output_type": "display_data"
    }
   ],
   "source": [
    "top10_users['count'].plot(kind='bar')\n",
    "plt.title('Maximum Number of Ratings by Users')"
   ]
  },
  {
   "cell_type": "markdown",
   "metadata": {},
   "source": [
    "Above, we see the average rating and the number of times that a user rated. As we can see that user 'A3KEZLJ59C1JVH' rated items 389 times with average rating of 3.7. There is a user who rated 275 times with average rating of 2.22"
   ]
  }
 ],
 "metadata": {
  "kernelspec": {
   "display_name": "Python 3",
   "language": "python",
   "name": "python3"
  },
  "language_info": {
   "codemirror_mode": {
    "name": "ipython",
    "version": 3
   },
   "file_extension": ".py",
   "mimetype": "text/x-python",
   "name": "python",
   "nbconvert_exporter": "python",
   "pygments_lexer": "ipython3",
   "version": "3.7.4"
  }
 },
 "nbformat": 4,
 "nbformat_minor": 2
}
